{
 "cells": [
  {
   "cell_type": "code",
   "execution_count": 0,
   "metadata": {
    "application/vnd.databricks.v1+cell": {
     "cellMetadata": {},
     "inputWidgets": {},
     "nuid": "fb07910e-34be-43e4-9b20-e2a42c474c58",
     "showTitle": false,
     "tableResultSettingsMap": {},
     "title": ""
    }
   },
   "outputs": [],
   "source": [
    "import os\n",
    "from databricks.sdk import WorkspaceClient\n",
    "from databricks.sdk.exceptions import ApiException\n",
    "\n",
    "def update_repo_branch(repo_id, branch):\n",
    "    \"\"\"\n",
    "    Updates the branch of a Databricks repository.\n",
    "\n",
    "    Args:\n",
    "        repo_id (int): The ID of the repository to update.\n",
    "        branch (str): The name of the branch to set.\n",
    "    \"\"\"\n",
    "    client = WorkspaceClient()\n",
    "\n",
    "    try:\n",
    "        print(f\"Attempting to update repository with ID: {repo_id} to branch: {branch}\")\n",
    "        client.repos.update(repo_id=repo_id, branch=branch)\n",
    "        print(f\"Successfully updated repository {repo_id} to branch '{branch}'.\")\n",
    "    except ApiException as e:\n",
    "        # Handle Databricks API errors\n",
    "        print(f\"API Error occurred while updating repository: {e.error_code} - {e.message}\")\n",
    "        if e.error_code == \"RESOURCE_DOES_NOT_EXIST\":\n",
    "            print(f\"Repository with ID {repo_id} does not exist.\")\n",
    "        elif e.error_code == \"INVALID_PARAMETER_VALUE\":\n",
    "            print(f\"Invalid parameter provided: {e.message}\")\n",
    "        else:\n",
    "            print(\"An unexpected API error occurred.\")\n",
    "    except Exception as e:\n",
    "        # Handle unexpected errors\n",
    "        print(f\"An unexpected error occurred: {str(e)}\")\n",
    "\n",
    "if __name__ == \"__main__\":\n",
    "    # Get environment variables\n",
    "    repo_id = os.getenv(\"REPO_ID\")\n",
    "    branch = os.getenv(\"BRANCH\")\n",
    "\n",
    "    if not repo_id or not branch:\n",
    "        print(\"Environment variables REPO_ID and BRANCH are required.\")\n",
    "        exit(1)\n",
    "\n",
    "    # Convert repo_id to integer\n",
    "    try:\n",
    "        repo_id = int(repo_id)\n",
    "    except ValueError:\n",
    "        print(\"REPO_ID must be an integer.\")\n",
    "        exit(1)\n",
    "\n",
    "    update_repo_branch(repo_id, branch)\n"
   ]
  }
 ],
 "metadata": {
  "application/vnd.databricks.v1+notebook": {
   "computePreferences": null,
   "dashboards": [],
   "environmentMetadata": {
    "base_environment": "",
    "client": "2"
   },
   "language": "python",
   "notebookMetadata": {
    "pythonIndentUnit": 4
   },
   "notebookName": "databricks_repo_sync",
   "widgets": {}
  },
  "language_info": {
   "name": "python"
  }
 },
 "nbformat": 4,
 "nbformat_minor": 0
}
